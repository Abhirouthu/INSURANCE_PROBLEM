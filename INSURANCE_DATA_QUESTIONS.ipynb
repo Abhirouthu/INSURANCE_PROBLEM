{
 "cells": [
  {
   "cell_type": "code",
   "execution_count": 1,
   "metadata": {
    "id": "tW3sqcI00PWm"
   },
   "outputs": [],
   "source": [
    "# impoting libraries\n",
    "\n",
    "import pandas as pd\n",
    "import numpy as np\n"
   ]
  },
  {
   "cell_type": "code",
   "execution_count": 2,
   "metadata": {
    "colab": {
     "base_uri": "https://localhost:8080/"
    },
    "id": "1Dvp0aLS0sEC",
    "outputId": "7140f13e-fa14-4034-e87b-8f54c136ca35"
   },
   "outputs": [
    {
     "data": {
      "text/plain": [
       "(1200, 10)"
      ]
     },
     "execution_count": 2,
     "metadata": {},
     "output_type": "execute_result"
    }
   ],
   "source": [
    "# reading data frame employee_data  and named the variable as 'a'\n",
    "a=pd.read_csv('/content/employee_data.csv')\n",
    "a.head()\n",
    "a.shape"
   ]
  },
  {
   "cell_type": "code",
   "execution_count": 3,
   "metadata": {
    "colab": {
     "base_uri": "https://localhost:8080/"
    },
    "id": "6oYXd0rl00mP",
    "outputId": "b9f4ebb6-f3cf-477a-95a6-77364e5609bd"
   },
   "outputs": [
    {
     "data": {
      "text/plain": [
       "(10000, 38)"
      ]
     },
     "execution_count": 3,
     "metadata": {},
     "output_type": "execute_result"
    }
   ],
   "source": [
    "# reading data frame  insurance_data and named the variable as 'b'\n",
    "b=pd.read_csv('/content/insurance_data.csv')\n",
    "b.head()\n",
    "b.shape"
   ]
  },
  {
   "cell_type": "code",
   "execution_count": 4,
   "metadata": {
    "colab": {
     "base_uri": "https://localhost:8080/"
    },
    "id": "hwb8pXVx1I0T",
    "outputId": "d3c5a6bd-8e48-485a-e08b-2aacce8d4cb3"
   },
   "outputs": [
    {
     "data": {
      "text/plain": [
       "(600, 7)"
      ]
     },
     "execution_count": 4,
     "metadata": {},
     "output_type": "execute_result"
    }
   ],
   "source": [
    "# reading data frame vendor_data  and named the variable as 'c'\n",
    "c=pd.read_csv('/content/vendor_data.csv')\n",
    "c.head()\n",
    "c.shape"
   ]
  },
  {
   "cell_type": "code",
   "execution_count": 5,
   "metadata": {
    "id": "kzl0zWCM1SAm"
   },
   "outputs": [],
   "source": [
    "# merged a , b csv files and named the data frame as merged\n",
    "\n",
    "merged = a.merge(b, on='AGENT_ID')"
   ]
  },
  {
   "cell_type": "code",
   "execution_count": 6,
   "metadata": {
    "id": "96AKxXb3U-xO"
   },
   "outputs": [],
   "source": [
    "# merged the merged data frame and c csv file and named the data set as complete merged.\n",
    "complete_merged=merged.merge(c,on='VENDOR_ID')"
   ]
  },
  {
   "cell_type": "markdown",
   "metadata": {
    "id": "2UequvMWVWxZ"
   },
   "source": [
    "###  **TASK** **1**"
   ]
  },
  {
   "cell_type": "code",
   "execution_count": 7,
   "metadata": {
    "colab": {
     "base_uri": "https://localhost:8080/",
     "height": 661
    },
    "id": "qKoxDWHm3ISB",
    "outputId": "53d87ce3-3595-4e95-d9cf-d4e74f2e8aee"
   },
   "outputs": [
    {
     "data": {
      "text/html": [
       "\n",
       "  <div id=\"df-ee14b1ca-0e54-4b6c-9428-262a4fb0d9b5\">\n",
       "    <div class=\"colab-df-container\">\n",
       "      <div>\n",
       "<style scoped>\n",
       "    .dataframe tbody tr th:only-of-type {\n",
       "        vertical-align: middle;\n",
       "    }\n",
       "\n",
       "    .dataframe tbody tr th {\n",
       "        vertical-align: top;\n",
       "    }\n",
       "\n",
       "    .dataframe thead th {\n",
       "        text-align: right;\n",
       "    }\n",
       "</style>\n",
       "<table border=\"1\" class=\"dataframe\">\n",
       "  <thead>\n",
       "    <tr style=\"text-align: right;\">\n",
       "      <th></th>\n",
       "      <th>AGENT_ID</th>\n",
       "      <th>AGENT_NAME</th>\n",
       "      <th>DATE_OF_JOINING</th>\n",
       "      <th>ADDRESS_LINE1_x</th>\n",
       "      <th>ADDRESS_LINE2_x</th>\n",
       "      <th>CITY_x</th>\n",
       "      <th>STATE_x</th>\n",
       "      <th>POSTAL_CODE_x</th>\n",
       "      <th>EMP_ROUTING_NUMBER</th>\n",
       "      <th>EMP_ACCT_NUMBER</th>\n",
       "      <th>...</th>\n",
       "      <th>INCIDENT_STATE</th>\n",
       "      <th>INCIDENT_CITY</th>\n",
       "      <th>INCIDENT_HOUR_OF_THE_DAY</th>\n",
       "      <th>VENDOR_ID</th>\n",
       "      <th>VENDOR_NAME</th>\n",
       "      <th>ADDRESS_LINE1</th>\n",
       "      <th>ADDRESS_LINE2</th>\n",
       "      <th>CITY</th>\n",
       "      <th>STATE</th>\n",
       "      <th>POSTAL_CODE</th>\n",
       "    </tr>\n",
       "  </thead>\n",
       "  <tbody>\n",
       "    <tr>\n",
       "      <th>0</th>\n",
       "      <td>AGENT00001</td>\n",
       "      <td>Ray Johns</td>\n",
       "      <td>1993-06-05</td>\n",
       "      <td>1402 Maggies Way</td>\n",
       "      <td>NaN</td>\n",
       "      <td>Waterbury Center</td>\n",
       "      <td>VT</td>\n",
       "      <td>5677</td>\n",
       "      <td>34584958</td>\n",
       "      <td>HKUN51252328472585</td>\n",
       "      <td>...</td>\n",
       "      <td>FL</td>\n",
       "      <td>Lynn Haven</td>\n",
       "      <td>4</td>\n",
       "      <td>VNDR00394</td>\n",
       "      <td>Hart PLC</td>\n",
       "      <td>1108 Slater Street</td>\n",
       "      <td>NaN</td>\n",
       "      <td>Santa Rosa</td>\n",
       "      <td>CA</td>\n",
       "      <td>95404</td>\n",
       "    </tr>\n",
       "    <tr>\n",
       "      <th>1</th>\n",
       "      <td>AGENT00017</td>\n",
       "      <td>Robert Gordon</td>\n",
       "      <td>2003-09-09</td>\n",
       "      <td>1100 Cleveland Street</td>\n",
       "      <td>NaN</td>\n",
       "      <td>Fayetteville</td>\n",
       "      <td>AR</td>\n",
       "      <td>72701</td>\n",
       "      <td>33587927</td>\n",
       "      <td>SXOO45515923150315</td>\n",
       "      <td>...</td>\n",
       "      <td>OK</td>\n",
       "      <td>Moore</td>\n",
       "      <td>17</td>\n",
       "      <td>VNDR00394</td>\n",
       "      <td>Hart PLC</td>\n",
       "      <td>1108 Slater Street</td>\n",
       "      <td>NaN</td>\n",
       "      <td>Santa Rosa</td>\n",
       "      <td>CA</td>\n",
       "      <td>95404</td>\n",
       "    </tr>\n",
       "    <tr>\n",
       "      <th>2</th>\n",
       "      <td>AGENT00027</td>\n",
       "      <td>Jaqueline Hanson</td>\n",
       "      <td>2010-04-20</td>\n",
       "      <td>6506 North Lagoon Drive</td>\n",
       "      <td>NaN</td>\n",
       "      <td>Panama City Beach</td>\n",
       "      <td>FL</td>\n",
       "      <td>32408</td>\n",
       "      <td>28032351</td>\n",
       "      <td>HNDV98515562374050</td>\n",
       "      <td>...</td>\n",
       "      <td>OK</td>\n",
       "      <td>Oklahoma City</td>\n",
       "      <td>20</td>\n",
       "      <td>VNDR00394</td>\n",
       "      <td>Hart PLC</td>\n",
       "      <td>1108 Slater Street</td>\n",
       "      <td>NaN</td>\n",
       "      <td>Santa Rosa</td>\n",
       "      <td>CA</td>\n",
       "      <td>95404</td>\n",
       "    </tr>\n",
       "    <tr>\n",
       "      <th>3</th>\n",
       "      <td>AGENT00057</td>\n",
       "      <td>Debra Tripp</td>\n",
       "      <td>2011-03-12</td>\n",
       "      <td>3194 Bladensburg Road Northeast</td>\n",
       "      <td>NaN</td>\n",
       "      <td>Washington</td>\n",
       "      <td>DC</td>\n",
       "      <td>20018</td>\n",
       "      <td>89557833</td>\n",
       "      <td>QINB62773712676016</td>\n",
       "      <td>...</td>\n",
       "      <td>CA</td>\n",
       "      <td>Dublin</td>\n",
       "      <td>9</td>\n",
       "      <td>VNDR00394</td>\n",
       "      <td>Hart PLC</td>\n",
       "      <td>1108 Slater Street</td>\n",
       "      <td>NaN</td>\n",
       "      <td>Santa Rosa</td>\n",
       "      <td>CA</td>\n",
       "      <td>95404</td>\n",
       "    </tr>\n",
       "    <tr>\n",
       "      <th>4</th>\n",
       "      <td>AGENT00130</td>\n",
       "      <td>Richard Watts</td>\n",
       "      <td>2011-03-19</td>\n",
       "      <td>2521 Naylor Road Southeast</td>\n",
       "      <td>NaN</td>\n",
       "      <td>Washington</td>\n",
       "      <td>DC</td>\n",
       "      <td>20020</td>\n",
       "      <td>37112932</td>\n",
       "      <td>PUKF19142478946120</td>\n",
       "      <td>...</td>\n",
       "      <td>TN</td>\n",
       "      <td>Nashville</td>\n",
       "      <td>1</td>\n",
       "      <td>VNDR00394</td>\n",
       "      <td>Hart PLC</td>\n",
       "      <td>1108 Slater Street</td>\n",
       "      <td>NaN</td>\n",
       "      <td>Santa Rosa</td>\n",
       "      <td>CA</td>\n",
       "      <td>95404</td>\n",
       "    </tr>\n",
       "    <tr>\n",
       "      <th>...</th>\n",
       "      <td>...</td>\n",
       "      <td>...</td>\n",
       "      <td>...</td>\n",
       "      <td>...</td>\n",
       "      <td>...</td>\n",
       "      <td>...</td>\n",
       "      <td>...</td>\n",
       "      <td>...</td>\n",
       "      <td>...</td>\n",
       "      <td>...</td>\n",
       "      <td>...</td>\n",
       "      <td>...</td>\n",
       "      <td>...</td>\n",
       "      <td>...</td>\n",
       "      <td>...</td>\n",
       "      <td>...</td>\n",
       "      <td>...</td>\n",
       "      <td>...</td>\n",
       "      <td>...</td>\n",
       "      <td>...</td>\n",
       "      <td>...</td>\n",
       "    </tr>\n",
       "    <tr>\n",
       "      <th>6750</th>\n",
       "      <td>AGENT00566</td>\n",
       "      <td>Paul Ragland</td>\n",
       "      <td>2014-02-05</td>\n",
       "      <td>6315 North Oro Vista Court</td>\n",
       "      <td>NaN</td>\n",
       "      <td>Litchfield Park</td>\n",
       "      <td>AZ</td>\n",
       "      <td>85340</td>\n",
       "      <td>119693502</td>\n",
       "      <td>DFQL30132049053767</td>\n",
       "      <td>...</td>\n",
       "      <td>VT</td>\n",
       "      <td>Williston</td>\n",
       "      <td>7</td>\n",
       "      <td>VNDR00197</td>\n",
       "      <td>Miller, Perez and Cannon</td>\n",
       "      <td>30 Curtis Road</td>\n",
       "      <td>#509</td>\n",
       "      <td>Milton</td>\n",
       "      <td>MA</td>\n",
       "      <td>2186</td>\n",
       "    </tr>\n",
       "    <tr>\n",
       "      <th>6751</th>\n",
       "      <td>AGENT00661</td>\n",
       "      <td>Johnny Borders</td>\n",
       "      <td>1993-11-14</td>\n",
       "      <td>52 Oleary Drive</td>\n",
       "      <td>NaN</td>\n",
       "      <td>Manchester</td>\n",
       "      <td>CT</td>\n",
       "      <td>6040</td>\n",
       "      <td>58545009</td>\n",
       "      <td>YWYB09426389497608</td>\n",
       "      <td>...</td>\n",
       "      <td>CT</td>\n",
       "      <td>Manchester</td>\n",
       "      <td>1</td>\n",
       "      <td>VNDR00197</td>\n",
       "      <td>Miller, Perez and Cannon</td>\n",
       "      <td>30 Curtis Road</td>\n",
       "      <td>#509</td>\n",
       "      <td>Milton</td>\n",
       "      <td>MA</td>\n",
       "      <td>2186</td>\n",
       "    </tr>\n",
       "    <tr>\n",
       "      <th>6752</th>\n",
       "      <td>AGENT00832</td>\n",
       "      <td>Andrea Deleon</td>\n",
       "      <td>2016-01-22</td>\n",
       "      <td>3420 Northwest 41st Street</td>\n",
       "      <td>NaN</td>\n",
       "      <td>Oklahoma City</td>\n",
       "      <td>OK</td>\n",
       "      <td>73112</td>\n",
       "      <td>91463119</td>\n",
       "      <td>AGZN99793722750020</td>\n",
       "      <td>...</td>\n",
       "      <td>AL</td>\n",
       "      <td>Montgomery</td>\n",
       "      <td>20</td>\n",
       "      <td>VNDR00197</td>\n",
       "      <td>Miller, Perez and Cannon</td>\n",
       "      <td>30 Curtis Road</td>\n",
       "      <td>#509</td>\n",
       "      <td>Milton</td>\n",
       "      <td>MA</td>\n",
       "      <td>2186</td>\n",
       "    </tr>\n",
       "    <tr>\n",
       "      <th>6753</th>\n",
       "      <td>AGENT00931</td>\n",
       "      <td>Teresa Hosey</td>\n",
       "      <td>1997-01-07</td>\n",
       "      <td>58 North U.S.A Drive</td>\n",
       "      <td>NaN</td>\n",
       "      <td>Fayetteville</td>\n",
       "      <td>AR</td>\n",
       "      <td>72701</td>\n",
       "      <td>46456511</td>\n",
       "      <td>MKRQ16932147550119</td>\n",
       "      <td>...</td>\n",
       "      <td>GA</td>\n",
       "      <td>Pooler</td>\n",
       "      <td>14</td>\n",
       "      <td>VNDR00197</td>\n",
       "      <td>Miller, Perez and Cannon</td>\n",
       "      <td>30 Curtis Road</td>\n",
       "      <td>#509</td>\n",
       "      <td>Milton</td>\n",
       "      <td>MA</td>\n",
       "      <td>2186</td>\n",
       "    </tr>\n",
       "    <tr>\n",
       "      <th>6754</th>\n",
       "      <td>AGENT00952</td>\n",
       "      <td>James Volk</td>\n",
       "      <td>1996-08-30</td>\n",
       "      <td>22062 Cameron Street</td>\n",
       "      <td>NaN</td>\n",
       "      <td>Castro Valley</td>\n",
       "      <td>CA</td>\n",
       "      <td>94546</td>\n",
       "      <td>39717652</td>\n",
       "      <td>JSZJ26000202617327</td>\n",
       "      <td>...</td>\n",
       "      <td>TN</td>\n",
       "      <td>Nashville</td>\n",
       "      <td>20</td>\n",
       "      <td>VNDR00197</td>\n",
       "      <td>Miller, Perez and Cannon</td>\n",
       "      <td>30 Curtis Road</td>\n",
       "      <td>#509</td>\n",
       "      <td>Milton</td>\n",
       "      <td>MA</td>\n",
       "      <td>2186</td>\n",
       "    </tr>\n",
       "  </tbody>\n",
       "</table>\n",
       "<p>6755 rows × 53 columns</p>\n",
       "</div>\n",
       "      <button class=\"colab-df-convert\" onclick=\"convertToInteractive('df-ee14b1ca-0e54-4b6c-9428-262a4fb0d9b5')\"\n",
       "              title=\"Convert this dataframe to an interactive table.\"\n",
       "              style=\"display:none;\">\n",
       "        \n",
       "  <svg xmlns=\"http://www.w3.org/2000/svg\" height=\"24px\"viewBox=\"0 0 24 24\"\n",
       "       width=\"24px\">\n",
       "    <path d=\"M0 0h24v24H0V0z\" fill=\"none\"/>\n",
       "    <path d=\"M18.56 5.44l.94 2.06.94-2.06 2.06-.94-2.06-.94-.94-2.06-.94 2.06-2.06.94zm-11 1L8.5 8.5l.94-2.06 2.06-.94-2.06-.94L8.5 2.5l-.94 2.06-2.06.94zm10 10l.94 2.06.94-2.06 2.06-.94-2.06-.94-.94-2.06-.94 2.06-2.06.94z\"/><path d=\"M17.41 7.96l-1.37-1.37c-.4-.4-.92-.59-1.43-.59-.52 0-1.04.2-1.43.59L10.3 9.45l-7.72 7.72c-.78.78-.78 2.05 0 2.83L4 21.41c.39.39.9.59 1.41.59.51 0 1.02-.2 1.41-.59l7.78-7.78 2.81-2.81c.8-.78.8-2.07 0-2.86zM5.41 20L4 18.59l7.72-7.72 1.47 1.35L5.41 20z\"/>\n",
       "  </svg>\n",
       "      </button>\n",
       "      \n",
       "  <style>\n",
       "    .colab-df-container {\n",
       "      display:flex;\n",
       "      flex-wrap:wrap;\n",
       "      gap: 12px;\n",
       "    }\n",
       "\n",
       "    .colab-df-convert {\n",
       "      background-color: #E8F0FE;\n",
       "      border: none;\n",
       "      border-radius: 50%;\n",
       "      cursor: pointer;\n",
       "      display: none;\n",
       "      fill: #1967D2;\n",
       "      height: 32px;\n",
       "      padding: 0 0 0 0;\n",
       "      width: 32px;\n",
       "    }\n",
       "\n",
       "    .colab-df-convert:hover {\n",
       "      background-color: #E2EBFA;\n",
       "      box-shadow: 0px 1px 2px rgba(60, 64, 67, 0.3), 0px 1px 3px 1px rgba(60, 64, 67, 0.15);\n",
       "      fill: #174EA6;\n",
       "    }\n",
       "\n",
       "    [theme=dark] .colab-df-convert {\n",
       "      background-color: #3B4455;\n",
       "      fill: #D2E3FC;\n",
       "    }\n",
       "\n",
       "    [theme=dark] .colab-df-convert:hover {\n",
       "      background-color: #434B5C;\n",
       "      box-shadow: 0px 1px 3px 1px rgba(0, 0, 0, 0.15);\n",
       "      filter: drop-shadow(0px 1px 2px rgba(0, 0, 0, 0.3));\n",
       "      fill: #FFFFFF;\n",
       "    }\n",
       "  </style>\n",
       "\n",
       "      <script>\n",
       "        const buttonEl =\n",
       "          document.querySelector('#df-ee14b1ca-0e54-4b6c-9428-262a4fb0d9b5 button.colab-df-convert');\n",
       "        buttonEl.style.display =\n",
       "          google.colab.kernel.accessAllowed ? 'block' : 'none';\n",
       "\n",
       "        async function convertToInteractive(key) {\n",
       "          const element = document.querySelector('#df-ee14b1ca-0e54-4b6c-9428-262a4fb0d9b5');\n",
       "          const dataTable =\n",
       "            await google.colab.kernel.invokeFunction('convertToInteractive',\n",
       "                                                     [key], {});\n",
       "          if (!dataTable) return;\n",
       "\n",
       "          const docLinkHtml = 'Like what you see? Visit the ' +\n",
       "            '<a target=\"_blank\" href=https://colab.research.google.com/notebooks/data_table.ipynb>data table notebook</a>'\n",
       "            + ' to learn more about interactive tables.';\n",
       "          element.innerHTML = '';\n",
       "          dataTable['output_type'] = 'display_data';\n",
       "          await google.colab.output.renderOutput(dataTable, element);\n",
       "          const docLink = document.createElement('div');\n",
       "          docLink.innerHTML = docLinkHtml;\n",
       "          element.appendChild(docLink);\n",
       "        }\n",
       "      </script>\n",
       "    </div>\n",
       "  </div>\n",
       "  "
      ],
      "text/plain": [
       "        AGENT_ID        AGENT_NAME DATE_OF_JOINING  \\\n",
       "0     AGENT00001         Ray Johns      1993-06-05   \n",
       "1     AGENT00017     Robert Gordon      2003-09-09   \n",
       "2     AGENT00027  Jaqueline Hanson      2010-04-20   \n",
       "3     AGENT00057       Debra Tripp      2011-03-12   \n",
       "4     AGENT00130     Richard Watts      2011-03-19   \n",
       "...          ...               ...             ...   \n",
       "6750  AGENT00566      Paul Ragland      2014-02-05   \n",
       "6751  AGENT00661    Johnny Borders      1993-11-14   \n",
       "6752  AGENT00832     Andrea Deleon      2016-01-22   \n",
       "6753  AGENT00931      Teresa Hosey      1997-01-07   \n",
       "6754  AGENT00952        James Volk      1996-08-30   \n",
       "\n",
       "                      ADDRESS_LINE1_x ADDRESS_LINE2_x             CITY_x  \\\n",
       "0                    1402 Maggies Way             NaN   Waterbury Center   \n",
       "1               1100 Cleveland Street             NaN       Fayetteville   \n",
       "2             6506 North Lagoon Drive             NaN  Panama City Beach   \n",
       "3     3194 Bladensburg Road Northeast             NaN         Washington   \n",
       "4          2521 Naylor Road Southeast             NaN         Washington   \n",
       "...                               ...             ...                ...   \n",
       "6750       6315 North Oro Vista Court             NaN    Litchfield Park   \n",
       "6751                  52 Oleary Drive             NaN         Manchester   \n",
       "6752       3420 Northwest 41st Street             NaN      Oklahoma City   \n",
       "6753             58 North U.S.A Drive             NaN       Fayetteville   \n",
       "6754             22062 Cameron Street             NaN      Castro Valley   \n",
       "\n",
       "     STATE_x  POSTAL_CODE_x  EMP_ROUTING_NUMBER     EMP_ACCT_NUMBER  ...  \\\n",
       "0         VT           5677            34584958  HKUN51252328472585  ...   \n",
       "1         AR          72701            33587927  SXOO45515923150315  ...   \n",
       "2         FL          32408            28032351  HNDV98515562374050  ...   \n",
       "3         DC          20018            89557833  QINB62773712676016  ...   \n",
       "4         DC          20020            37112932  PUKF19142478946120  ...   \n",
       "...      ...            ...                 ...                 ...  ...   \n",
       "6750      AZ          85340           119693502  DFQL30132049053767  ...   \n",
       "6751      CT           6040            58545009  YWYB09426389497608  ...   \n",
       "6752      OK          73112            91463119  AGZN99793722750020  ...   \n",
       "6753      AR          72701            46456511  MKRQ16932147550119  ...   \n",
       "6754      CA          94546            39717652  JSZJ26000202617327  ...   \n",
       "\n",
       "     INCIDENT_STATE  INCIDENT_CITY INCIDENT_HOUR_OF_THE_DAY  VENDOR_ID  \\\n",
       "0                FL     Lynn Haven                        4  VNDR00394   \n",
       "1                OK          Moore                       17  VNDR00394   \n",
       "2                OK  Oklahoma City                       20  VNDR00394   \n",
       "3                CA         Dublin                        9  VNDR00394   \n",
       "4                TN      Nashville                        1  VNDR00394   \n",
       "...             ...            ...                      ...        ...   \n",
       "6750             VT      Williston                        7  VNDR00197   \n",
       "6751             CT     Manchester                        1  VNDR00197   \n",
       "6752             AL     Montgomery                       20  VNDR00197   \n",
       "6753             GA         Pooler                       14  VNDR00197   \n",
       "6754             TN      Nashville                       20  VNDR00197   \n",
       "\n",
       "                   VENDOR_NAME       ADDRESS_LINE1 ADDRESS_LINE2        CITY  \\\n",
       "0                     Hart PLC  1108 Slater Street           NaN  Santa Rosa   \n",
       "1                     Hart PLC  1108 Slater Street           NaN  Santa Rosa   \n",
       "2                     Hart PLC  1108 Slater Street           NaN  Santa Rosa   \n",
       "3                     Hart PLC  1108 Slater Street           NaN  Santa Rosa   \n",
       "4                     Hart PLC  1108 Slater Street           NaN  Santa Rosa   \n",
       "...                        ...                 ...           ...         ...   \n",
       "6750  Miller, Perez and Cannon      30 Curtis Road          #509      Milton   \n",
       "6751  Miller, Perez and Cannon      30 Curtis Road          #509      Milton   \n",
       "6752  Miller, Perez and Cannon      30 Curtis Road          #509      Milton   \n",
       "6753  Miller, Perez and Cannon      30 Curtis Road          #509      Milton   \n",
       "6754  Miller, Perez and Cannon      30 Curtis Road          #509      Milton   \n",
       "\n",
       "      STATE  POSTAL_CODE  \n",
       "0        CA        95404  \n",
       "1        CA        95404  \n",
       "2        CA        95404  \n",
       "3        CA        95404  \n",
       "4        CA        95404  \n",
       "...     ...          ...  \n",
       "6750     MA         2186  \n",
       "6751     MA         2186  \n",
       "6752     MA         2186  \n",
       "6753     MA         2186  \n",
       "6754     MA         2186  \n",
       "\n",
       "[6755 rows x 53 columns]"
      ]
     },
     "execution_count": 7,
     "metadata": {},
     "output_type": "execute_result"
    }
   ],
   "source": [
    "#task1\n",
    "complete_merged"
   ]
  },
  {
   "cell_type": "code",
   "execution_count": 8,
   "metadata": {
    "colab": {
     "base_uri": "https://localhost:8080/"
    },
    "id": "IO4QyR9n3MPz",
    "outputId": "3281c001-4520-4c68-c63b-b22893bad577"
   },
   "outputs": [
    {
     "data": {
      "text/plain": [
       "Index(['AGENT_ID', 'AGENT_NAME', 'DATE_OF_JOINING', 'ADDRESS_LINE1_x',\n",
       "       'ADDRESS_LINE2_x', 'CITY_x', 'STATE_x', 'POSTAL_CODE_x',\n",
       "       'EMP_ROUTING_NUMBER', 'EMP_ACCT_NUMBER', 'TXN_DATE_TIME',\n",
       "       'TRANSACTION_ID', 'CUSTOMER_ID', 'POLICY_NUMBER', 'POLICY_EFF_DT',\n",
       "       'LOSS_DT', 'REPORT_DT', 'INSURANCE_TYPE', 'PREMIUM_AMOUNT',\n",
       "       'CLAIM_AMOUNT', 'CUSTOMER_NAME', 'ADDRESS_LINE1_y', 'ADDRESS_LINE2_y',\n",
       "       'CITY_y', 'STATE_y', 'POSTAL_CODE_y', 'SSN', 'MARITAL_STATUS', 'AGE',\n",
       "       'TENURE', 'EMPLOYMENT_STATUS', 'NO_OF_FAMILY_MEMBERS',\n",
       "       'RISK_SEGMENTATION', 'HOUSE_TYPE', 'SOCIAL_CLASS', 'ROUTING_NUMBER',\n",
       "       'ACCT_NUMBER', 'CUSTOMER_EDUCATION_LEVEL', 'CLAIM_STATUS',\n",
       "       'INCIDENT_SEVERITY', 'AUTHORITY_CONTACTED', 'ANY_INJURY',\n",
       "       'POLICE_REPORT_AVAILABLE', 'INCIDENT_STATE', 'INCIDENT_CITY',\n",
       "       'INCIDENT_HOUR_OF_THE_DAY', 'VENDOR_ID', 'VENDOR_NAME', 'ADDRESS_LINE1',\n",
       "       'ADDRESS_LINE2', 'CITY', 'STATE', 'POSTAL_CODE'],\n",
       "      dtype='object')"
      ]
     },
     "execution_count": 8,
     "metadata": {},
     "output_type": "execute_result"
    }
   ],
   "source": [
    "complete_merged.columns"
   ]
  },
  {
   "cell_type": "code",
   "execution_count": 9,
   "metadata": {
    "id": "TZfRrz3o4Thm"
   },
   "outputs": [],
   "source": [
    "# finding the count of insurance type and named the variable as type_counts\n",
    "\n",
    "type_counts=complete_merged['INSURANCE_TYPE'].value_counts()"
   ]
  },
  {
   "cell_type": "markdown",
   "metadata": {
    "id": "-Q_0tlwKWGZk"
   },
   "source": [
    "**TASK** **2**"
   ]
  },
  {
   "cell_type": "code",
   "execution_count": 10,
   "metadata": {
    "id": "QUDb9kEx4pfD"
   },
   "outputs": [],
   "source": [
    "# finding the top 3 insurance type and named the variable as top 3 insurance type\n",
    "Top_3_Insurance_Type=type_counts.sort_values(ascending=False)[0:3]"
   ]
  },
  {
   "cell_type": "code",
   "execution_count": 11,
   "metadata": {
    "colab": {
     "base_uri": "https://localhost:8080/"
    },
    "id": "0XM9bomzNCvy",
    "outputId": "08b89b6d-c3d6-4e13-ee8a-99bfeeee9736"
   },
   "outputs": [
    {
     "data": {
      "text/plain": [
       "Mobile    1145\n",
       "Life      1141\n",
       "Travel    1136\n",
       "Name: INSURANCE_TYPE, dtype: int64"
      ]
     },
     "execution_count": 11,
     "metadata": {},
     "output_type": "execute_result"
    }
   ],
   "source": [
    "# TOP 3 INSURANCE TYPES..\n",
    "Top_3_Insurance_Type\n"
   ]
  },
  {
   "cell_type": "markdown",
   "metadata": {
    "id": "2RmJCClgWsDx"
   },
   "source": [
    "**TASK 3**"
   ]
  },
  {
   "cell_type": "code",
   "execution_count": 12,
   "metadata": {
    "id": "9XPPR6wl6Ii0"
   },
   "outputs": [],
   "source": [
    "#finding Top 5 States where we are getting most insurance claims for customer belonging to HIGH(H) risk segment and named the variable as Top_5_States\n",
    "\n",
    "Top_5_States=complete_merged[complete_merged['RISK_SEGMENTATION']=='H']['STATE'].value_counts().sort_values(ascending=False)[0:5]"
   ]
  },
  {
   "cell_type": "code",
   "execution_count": 13,
   "metadata": {
    "colab": {
     "base_uri": "https://localhost:8080/"
    },
    "id": "_N5BHXCIXGhQ",
    "outputId": "89bf0ae6-9577-42f3-8879-bfb27472ff97"
   },
   "outputs": [
    {
     "data": {
      "text/plain": [
       "CA    112\n",
       "AR     85\n",
       "CO     78\n",
       "CT     77\n",
       "KY     75\n",
       "Name: STATE, dtype: int64"
      ]
     },
     "execution_count": 13,
     "metadata": {},
     "output_type": "execute_result"
    }
   ],
   "source": [
    "# top 5 states \n",
    "Top_5_States"
   ]
  },
  {
   "cell_type": "markdown",
   "metadata": {
    "id": "TBdxSWo2XQxV"
   },
   "source": [
    "**TASK 4**"
   ]
  },
  {
   "cell_type": "code",
   "execution_count": 14,
   "metadata": {
    "id": "8BO-FPgVXcKU"
   },
   "outputs": [],
   "source": [
    "# Finding Customer State == Incident State == Agent Address State THEN 1 ELSE 0 and named the list as co\n",
    "\n",
    "co=[]\n",
    "for i,j,k in zip(complete_merged.STATE,complete_merged.STATE_x,complete_merged.STATE_y):\n",
    "  if i==j:\n",
    "    if i==k:\n",
    "      co.append(1)\n",
    "    else:\n",
    "      co.append(0)\n",
    "  else:\n",
    "    co.append(0)"
   ]
  },
  {
   "cell_type": "code",
   "execution_count": 15,
   "metadata": {
    "id": "Bej6GbTjBvFA"
   },
   "outputs": [],
   "source": [
    "# creating a feauture colocation with the co list\n",
    "complete_merged['COLOCATION']=co\n"
   ]
  },
  {
   "cell_type": "code",
   "execution_count": 16,
   "metadata": {
    "colab": {
     "base_uri": "https://localhost:8080/"
    },
    "id": "mUXpxxZKC2Og",
    "outputId": "a874ed9d-1786-4ef4-bde2-c20c848e20b7"
   },
   "outputs": [
    {
     "data": {
      "text/plain": [
       "0    6720\n",
       "1      35\n",
       "Name: COLOCATION, dtype: int64"
      ]
     },
     "execution_count": 16,
     "metadata": {},
     "output_type": "execute_result"
    }
   ],
   "source": [
    "# checking the value counts of colocation\n",
    "complete_merged['COLOCATION'].value_counts()"
   ]
  },
  {
   "cell_type": "code",
   "execution_count": 17,
   "metadata": {
    "id": "24rQz1E6DHNF"
   },
   "outputs": [],
   "source": [
    "# finding the mean of colocation \n",
    "mean_COLOCATION=complete_merged['COLOCATION'].mean()"
   ]
  },
  {
   "cell_type": "code",
   "execution_count": 18,
   "metadata": {
    "colab": {
     "base_uri": "https://localhost:8080/"
    },
    "id": "4lCg8XywYWQy",
    "outputId": "905e931a-cc65-4358-8b51-5ee468030cc8"
   },
   "outputs": [
    {
     "data": {
      "text/plain": [
       "0.0051813471502590676"
      ]
     },
     "execution_count": 18,
     "metadata": {},
     "output_type": "execute_result"
    }
   ],
   "source": [
    "# mean of colocation\n",
    "mean_COLOCATION"
   ]
  },
  {
   "cell_type": "markdown",
   "metadata": {
    "id": "rE0zoy2oYlGw"
   },
   "source": [
    "TASK 5"
   ]
  },
  {
   "cell_type": "code",
   "execution_count": 19,
   "metadata": {
    "colab": {
     "base_uri": "https://localhost:8080/"
    },
    "id": "KZ2d1Yz0YsJB",
    "outputId": "575885b3-d08f-4f49-ea37-0e9c61dc1dba"
   },
   "outputs": [
    {
     "data": {
      "text/plain": [
       "Ambulance    2791\n",
       "Police       1938\n",
       "None         1337\n",
       "Other         689\n",
       "Name: AUTHORITY_CONTACTED, dtype: int64"
      ]
     },
     "execution_count": 19,
     "metadata": {},
     "output_type": "execute_result"
    }
   ],
   "source": [
    "# Checking the columns of AUTHORITY_CONTACTED\n",
    "complete_merged['AUTHORITY_CONTACTED'].value_counts()"
   ]
  },
  {
   "cell_type": "code",
   "execution_count": 20,
   "metadata": {
    "id": "-TIQ-D0iE5vj"
   },
   "outputs": [],
   "source": [
    "# checking n “AUTHORITY_CONTACTED” is NOT “Police” and POLICE_AVAILABLE == 1Then Update “AUTHORITY_CONTACTED” to Police\n",
    "# and named the list as s\n",
    "s=[]\n",
    "for i,j in zip(complete_merged['AUTHORITY_CONTACTED'],complete_merged['POLICE_REPORT_AVAILABLE']):\n",
    "  if i != 'police':\n",
    "    if j==1:\n",
    "      s.append('Police')\n",
    "    else :\n",
    "      s.append(i)\n",
    "  else:\n",
    "    s.append(i)\n",
    "               "
   ]
  },
  {
   "cell_type": "code",
   "execution_count": 21,
   "metadata": {
    "id": "sRqyJbu6IIpn"
   },
   "outputs": [],
   "source": [
    "# creating a feauture AUTHORITY_CONTACTED in dataframe\n",
    "complete_merged['AUTHORITY_CONTACTED']=s"
   ]
  },
  {
   "cell_type": "code",
   "execution_count": 22,
   "metadata": {
    "colab": {
     "base_uri": "https://localhost:8080/"
    },
    "id": "nq494EgVIK7g",
    "outputId": "2010c397-0233-47d8-e071-186a3258bce8"
   },
   "outputs": [
    {
     "data": {
      "text/plain": [
       "Police       5257\n",
       "Ambulance     875\n",
       "None          404\n",
       "Other         219\n",
       "Name: AUTHORITY_CONTACTED, dtype: int64"
      ]
     },
     "execution_count": 22,
     "metadata": {},
     "output_type": "execute_result"
    }
   ],
   "source": [
    "# updated AUTHORITY_CONTACTED value counts\n",
    "complete_merged['AUTHORITY_CONTACTED'].value_counts()"
   ]
  },
  {
   "cell_type": "markdown",
   "metadata": {
    "id": "rd8GJ8VNZkJJ"
   },
   "source": [
    "TASK 6"
   ]
  },
  {
   "cell_type": "code",
   "execution_count": 23,
   "metadata": {
    "colab": {
     "base_uri": "https://localhost:8080/",
     "height": 424
    },
    "id": "n90NM7W8ZePr",
    "outputId": "00d580e4-6746-4e1b-e94d-9c6035fc83fe"
   },
   "outputs": [
    {
     "data": {
      "text/html": [
       "\n",
       "  <div id=\"df-22e72c7c-f3e2-4a8d-9d5f-1e641560424b\">\n",
       "    <div class=\"colab-df-container\">\n",
       "      <div>\n",
       "<style scoped>\n",
       "    .dataframe tbody tr th:only-of-type {\n",
       "        vertical-align: middle;\n",
       "    }\n",
       "\n",
       "    .dataframe tbody tr th {\n",
       "        vertical-align: top;\n",
       "    }\n",
       "\n",
       "    .dataframe thead th {\n",
       "        text-align: right;\n",
       "    }\n",
       "</style>\n",
       "<table border=\"1\" class=\"dataframe\">\n",
       "  <thead>\n",
       "    <tr style=\"text-align: right;\">\n",
       "      <th></th>\n",
       "      <th>PREMIUM_AMOUNT</th>\n",
       "      <th>CLAIM_AMOUNT</th>\n",
       "    </tr>\n",
       "  </thead>\n",
       "  <tbody>\n",
       "    <tr>\n",
       "      <th>0</th>\n",
       "      <td>82.00</td>\n",
       "      <td>10000</td>\n",
       "    </tr>\n",
       "    <tr>\n",
       "      <th>1</th>\n",
       "      <td>175.56</td>\n",
       "      <td>2000</td>\n",
       "    </tr>\n",
       "    <tr>\n",
       "      <th>2</th>\n",
       "      <td>163.67</td>\n",
       "      <td>16000</td>\n",
       "    </tr>\n",
       "    <tr>\n",
       "      <th>3</th>\n",
       "      <td>53.33</td>\n",
       "      <td>3000</td>\n",
       "    </tr>\n",
       "    <tr>\n",
       "      <th>4</th>\n",
       "      <td>84.41</td>\n",
       "      <td>26000</td>\n",
       "    </tr>\n",
       "    <tr>\n",
       "      <th>...</th>\n",
       "      <td>...</td>\n",
       "      <td>...</td>\n",
       "    </tr>\n",
       "    <tr>\n",
       "      <th>6750</th>\n",
       "      <td>79.69</td>\n",
       "      <td>3000</td>\n",
       "    </tr>\n",
       "    <tr>\n",
       "      <th>6751</th>\n",
       "      <td>191.10</td>\n",
       "      <td>13000</td>\n",
       "    </tr>\n",
       "    <tr>\n",
       "      <th>6752</th>\n",
       "      <td>56.91</td>\n",
       "      <td>58000</td>\n",
       "    </tr>\n",
       "    <tr>\n",
       "      <th>6753</th>\n",
       "      <td>59.42</td>\n",
       "      <td>3000</td>\n",
       "    </tr>\n",
       "    <tr>\n",
       "      <th>6754</th>\n",
       "      <td>127.41</td>\n",
       "      <td>7000</td>\n",
       "    </tr>\n",
       "  </tbody>\n",
       "</table>\n",
       "<p>6755 rows × 2 columns</p>\n",
       "</div>\n",
       "      <button class=\"colab-df-convert\" onclick=\"convertToInteractive('df-22e72c7c-f3e2-4a8d-9d5f-1e641560424b')\"\n",
       "              title=\"Convert this dataframe to an interactive table.\"\n",
       "              style=\"display:none;\">\n",
       "        \n",
       "  <svg xmlns=\"http://www.w3.org/2000/svg\" height=\"24px\"viewBox=\"0 0 24 24\"\n",
       "       width=\"24px\">\n",
       "    <path d=\"M0 0h24v24H0V0z\" fill=\"none\"/>\n",
       "    <path d=\"M18.56 5.44l.94 2.06.94-2.06 2.06-.94-2.06-.94-.94-2.06-.94 2.06-2.06.94zm-11 1L8.5 8.5l.94-2.06 2.06-.94-2.06-.94L8.5 2.5l-.94 2.06-2.06.94zm10 10l.94 2.06.94-2.06 2.06-.94-2.06-.94-.94-2.06-.94 2.06-2.06.94z\"/><path d=\"M17.41 7.96l-1.37-1.37c-.4-.4-.92-.59-1.43-.59-.52 0-1.04.2-1.43.59L10.3 9.45l-7.72 7.72c-.78.78-.78 2.05 0 2.83L4 21.41c.39.39.9.59 1.41.59.51 0 1.02-.2 1.41-.59l7.78-7.78 2.81-2.81c.8-.78.8-2.07 0-2.86zM5.41 20L4 18.59l7.72-7.72 1.47 1.35L5.41 20z\"/>\n",
       "  </svg>\n",
       "      </button>\n",
       "      \n",
       "  <style>\n",
       "    .colab-df-container {\n",
       "      display:flex;\n",
       "      flex-wrap:wrap;\n",
       "      gap: 12px;\n",
       "    }\n",
       "\n",
       "    .colab-df-convert {\n",
       "      background-color: #E8F0FE;\n",
       "      border: none;\n",
       "      border-radius: 50%;\n",
       "      cursor: pointer;\n",
       "      display: none;\n",
       "      fill: #1967D2;\n",
       "      height: 32px;\n",
       "      padding: 0 0 0 0;\n",
       "      width: 32px;\n",
       "    }\n",
       "\n",
       "    .colab-df-convert:hover {\n",
       "      background-color: #E2EBFA;\n",
       "      box-shadow: 0px 1px 2px rgba(60, 64, 67, 0.3), 0px 1px 3px 1px rgba(60, 64, 67, 0.15);\n",
       "      fill: #174EA6;\n",
       "    }\n",
       "\n",
       "    [theme=dark] .colab-df-convert {\n",
       "      background-color: #3B4455;\n",
       "      fill: #D2E3FC;\n",
       "    }\n",
       "\n",
       "    [theme=dark] .colab-df-convert:hover {\n",
       "      background-color: #434B5C;\n",
       "      box-shadow: 0px 1px 3px 1px rgba(0, 0, 0, 0.15);\n",
       "      filter: drop-shadow(0px 1px 2px rgba(0, 0, 0, 0.3));\n",
       "      fill: #FFFFFF;\n",
       "    }\n",
       "  </style>\n",
       "\n",
       "      <script>\n",
       "        const buttonEl =\n",
       "          document.querySelector('#df-22e72c7c-f3e2-4a8d-9d5f-1e641560424b button.colab-df-convert');\n",
       "        buttonEl.style.display =\n",
       "          google.colab.kernel.accessAllowed ? 'block' : 'none';\n",
       "\n",
       "        async function convertToInteractive(key) {\n",
       "          const element = document.querySelector('#df-22e72c7c-f3e2-4a8d-9d5f-1e641560424b');\n",
       "          const dataTable =\n",
       "            await google.colab.kernel.invokeFunction('convertToInteractive',\n",
       "                                                     [key], {});\n",
       "          if (!dataTable) return;\n",
       "\n",
       "          const docLinkHtml = 'Like what you see? Visit the ' +\n",
       "            '<a target=\"_blank\" href=https://colab.research.google.com/notebooks/data_table.ipynb>data table notebook</a>'\n",
       "            + ' to learn more about interactive tables.';\n",
       "          element.innerHTML = '';\n",
       "          dataTable['output_type'] = 'display_data';\n",
       "          await google.colab.output.renderOutput(dataTable, element);\n",
       "          const docLink = document.createElement('div');\n",
       "          docLink.innerHTML = docLinkHtml;\n",
       "          element.appendChild(docLink);\n",
       "        }\n",
       "      </script>\n",
       "    </div>\n",
       "  </div>\n",
       "  "
      ],
      "text/plain": [
       "      PREMIUM_AMOUNT  CLAIM_AMOUNT\n",
       "0              82.00         10000\n",
       "1             175.56          2000\n",
       "2             163.67         16000\n",
       "3              53.33          3000\n",
       "4              84.41         26000\n",
       "...              ...           ...\n",
       "6750           79.69          3000\n",
       "6751          191.10         13000\n",
       "6752           56.91         58000\n",
       "6753           59.42          3000\n",
       "6754          127.41          7000\n",
       "\n",
       "[6755 rows x 2 columns]"
      ]
     },
     "execution_count": 23,
     "metadata": {},
     "output_type": "execute_result"
    }
   ],
   "source": [
    "#task6\n",
    "complete_merged[['PREMIUM_AMOUNT','CLAIM_AMOUNT']]"
   ]
  },
  {
   "cell_type": "markdown",
   "metadata": {
    "id": "TER-B-1acvxc"
   },
   "source": [
    "TASK 7"
   ]
  },
  {
   "cell_type": "code",
   "execution_count": 24,
   "metadata": {
    "id": "MjemEQY5cs8u"
   },
   "outputs": [],
   "source": [
    "# Find All Agents who have worked on more than 2 types of Insurance Claims.\n",
    "# sorted based on claim amount\n",
    "\n",
    "df_a=complete_merged[['AGENT_ID','INSURANCE_TYPE']]\n",
    "df_b=df_a.drop_duplicates()\n",
    "df_c=df_b.groupby('AGENT_ID').count()>2\n",
    "agent_id=df_c[df_c['INSURANCE_TYPE']==True].index\n",
    "df_agent=complete_merged[(complete_merged['AGENT_ID'].isin(agent_id))]\n",
    "sorted_agents=df_agent.groupby('AGENT_ID').sum()['CLAIM_AMOUNT'].sort_values(ascending=False)\n"
   ]
  },
  {
   "cell_type": "code",
   "execution_count": 25,
   "metadata": {
    "colab": {
     "base_uri": "https://localhost:8080/"
    },
    "id": "u_j2K9WUctG6",
    "outputId": "a3d57e5b-3d22-4ba7-ff52-eed78fdad252"
   },
   "outputs": [
    {
     "data": {
      "text/plain": [
       "AGENT_ID\n",
       "AGENT00807    417100\n",
       "AGENT01142    334000\n",
       "AGENT00313    330000\n",
       "AGENT00125    323400\n",
       "AGENT00679    312000\n",
       "               ...  \n",
       "AGENT00188      8600\n",
       "AGENT00537      6100\n",
       "AGENT00604      5400\n",
       "AGENT00793      5200\n",
       "AGENT00197      3500\n",
       "Name: CLAIM_AMOUNT, Length: 1025, dtype: int64"
      ]
     },
     "execution_count": 25,
     "metadata": {},
     "output_type": "execute_result"
    }
   ],
   "source": [
    "# agents who worked on more than 2 insurance types\n",
    "sorted_agents"
   ]
  },
  {
   "cell_type": "markdown",
   "metadata": {
    "id": "e7q0AgINeE_1"
   },
   "source": [
    "TASK 8"
   ]
  },
  {
   "cell_type": "code",
   "execution_count": 26,
   "metadata": {
    "id": "9DQU55cQeDFH"
   },
   "outputs": [],
   "source": [
    "# finding What will be overall change in % of the Premium Amount Collected for all these Customer\n",
    "# named the list as premium\n",
    "\n",
    "premium=[]\n",
    "for i,j in zip(complete_merged['INSURANCE_TYPE'],complete_merged['PREMIUM_AMOUNT']):\n",
    "    if i=='Mobile' or i=='Travel':\n",
    "        premium.append(j*0.9)\n",
    "    elif i=='Health' or i=='Property':\n",
    "        premium.append(j*0.93)\n",
    "    elif i=='Life' or i=='Motor':\n",
    "         premium.append(j*0.98)\n",
    "        "
   ]
  },
  {
   "cell_type": "code",
   "execution_count": 27,
   "metadata": {
    "id": "kb-Y47CoeDUI"
   },
   "outputs": [],
   "source": [
    "s=(((complete_merged['PREMIUM_AMOUNT'].sum())-sum(premium))/complete_merged['PREMIUM_AMOUNT'].sum())*100"
   ]
  },
  {
   "cell_type": "code",
   "execution_count": 28,
   "metadata": {
    "colab": {
     "base_uri": "https://localhost:8080/"
    },
    "id": "2CXeaPpleDhn",
    "outputId": "807b2ff4-5357-4d4e-d0f2-9dd940279645"
   },
   "outputs": [
    {
     "data": {
      "text/plain": [
       "5.800627413587433"
      ]
     },
     "execution_count": 28,
     "metadata": {},
     "output_type": "execute_result"
    }
   ],
   "source": [
    "#e overall change in % of the Premium Amount Collected for all these Customer\n",
    "\n",
    "s"
   ]
  },
  {
   "cell_type": "markdown",
   "metadata": {
    "id": "xPukXEsUZ6WH"
   },
   "source": [
    "TASK 9"
   ]
  },
  {
   "cell_type": "code",
   "execution_count": 29,
   "metadata": {
    "id": "XYsifrEnZArm"
   },
   "outputs": [],
   "source": [
    "\n",
    "\n",
    "# CHECKING IF CUSTOMER_TENURE > 60 AND EMPLOYMENT_STATUS = “N”AND NO_OF_FAMILY_MEMBERS >=4 THEN 1 ELSE 0\n",
    "# NAMED THE LIST AS S\n",
    "s=[]\n",
    "for i,j,k in zip(complete_merged['TENURE'], complete_merged['EMPLOYMENT_STATUS'], complete_merged['NO_OF_FAMILY_MEMBERS']):\n",
    "  if i>60  and  j=='N' and  k>=4:\n",
    "    s.append(1)\n",
    "  else:\n",
    "    s.append(0)\n"
   ]
  },
  {
   "cell_type": "code",
   "execution_count": 30,
   "metadata": {
    "id": "VnzKgA_Ra3je"
   },
   "outputs": [],
   "source": [
    "#adding a feauture in the dataframe named as ELIGIBLE_FOR_DISCOUNT\n",
    "complete_merged['ELIGIBLE_FOR_DISCOUNT']=s"
   ]
  },
  {
   "cell_type": "code",
   "execution_count": 31,
   "metadata": {
    "colab": {
     "base_uri": "https://localhost:8080/"
    },
    "id": "wH5VSkZnbJEu",
    "outputId": "23a86189-eeb4-4233-fb49-7616ec592d15"
   },
   "outputs": [
    {
     "data": {
      "text/plain": [
       "0.03005181347150259"
      ]
     },
     "execution_count": 31,
     "metadata": {},
     "output_type": "execute_result"
    }
   ],
   "source": [
    "#ELIGIBLE_FOR_DISCOUNT mean\n",
    "\n",
    "complete_merged['ELIGIBLE_FOR_DISCOUNT'].mean()"
   ]
  },
  {
   "cell_type": "markdown",
   "metadata": {
    "id": "obbZkdD_bcsK"
   },
   "source": [
    "**TASK 11**"
   ]
  },
  {
   "cell_type": "code",
   "execution_count": 32,
   "metadata": {
    "colab": {
     "base_uri": "https://localhost:8080/"
    },
    "id": "k8vbuvMCacRH",
    "outputId": "2917da7c-4509-4ba0-b0e7-ec81f02a9cd8"
   },
   "outputs": [
    {
     "data": {
      "text/plain": [
       "300.0"
      ]
     },
     "execution_count": 32,
     "metadata": {},
     "output_type": "execute_result"
    }
   ],
   "source": [
    "#employees who are in the bottom 5 percentile based on Claims worked by them.\n",
    "np.percentile(complete_merged['CLAIM_AMOUNT'],5)"
   ]
  },
  {
   "cell_type": "code",
   "execution_count": 33,
   "metadata": {
    "id": "U8eYC1p5bapX"
   },
   "outputs": [],
   "source": [
    "# low performing agents based on condition\n",
    "low_pergorming_agents=complete_merged[complete_merged['CLAIM_AMOUNT']<=300]['AGENT_NAME'].to_list()\n"
   ]
  },
  {
   "cell_type": "code",
   "execution_count": 34,
   "metadata": {
    "colab": {
     "base_uri": "https://localhost:8080/"
    },
    "id": "w2jVBnx_ba7n",
    "outputId": "50d9046d-354e-4598-b5a3-8cb276d00542"
   },
   "outputs": [
    {
     "data": {
      "text/plain": [
       "['Joel Buss',\n",
       " 'Mary Scribner',\n",
       " 'Roberto Wetzel',\n",
       " 'Patricia Gloeckner',\n",
       " 'Vernon Stanfield',\n",
       " 'Christopher Lazor',\n",
       " 'Jim Rippee',\n",
       " 'Marita Swearengin',\n",
       " 'Greg Mclaughlin',\n",
       " 'Ray Johns',\n",
       " 'Claudia Lennon',\n",
       " 'Jewell Johnson',\n",
       " 'Jerome Chittenden',\n",
       " 'Jean Dominguez',\n",
       " 'Kathryn Lehman',\n",
       " 'Katherine Williams',\n",
       " 'Louise Garst',\n",
       " 'Connie Phillips',\n",
       " 'Amos Casillas',\n",
       " 'Robyn Garcia',\n",
       " 'Candy Spellman',\n",
       " 'Thomas Marshall',\n",
       " 'Scott Mcintyre',\n",
       " 'Scott Mcintyre',\n",
       " 'Darryl Hafenstein',\n",
       " 'Phil Murat',\n",
       " 'Evelyn Hurt',\n",
       " 'Francisca Carrier',\n",
       " 'Grace Rogers',\n",
       " 'Fredrick Killen',\n",
       " 'Sonia Barnhill',\n",
       " 'Jerry Hoopes',\n",
       " 'Melvin Stacey',\n",
       " 'Helen Curry',\n",
       " 'George Perry',\n",
       " 'Marcus Sitko',\n",
       " 'Jose Jones',\n",
       " 'Kenneth Bullard',\n",
       " 'Scott Beadle',\n",
       " 'Linda Butler',\n",
       " 'Heather Miramontes',\n",
       " 'Arthur Gordon',\n",
       " 'Pete Begley',\n",
       " 'Gilberte Emerson',\n",
       " 'Jordon Morris',\n",
       " 'Michael Hoskins',\n",
       " 'Catherine Rojas',\n",
       " 'Jason Davis',\n",
       " 'Julie Lang',\n",
       " 'Michael Hoskins',\n",
       " 'Karen Olsen',\n",
       " 'Sarah Mcnish',\n",
       " 'Shirley Conway',\n",
       " 'Mathew Prater',\n",
       " 'Kelly Coombs',\n",
       " 'Laura Carroll',\n",
       " 'Nannie Thomas',\n",
       " 'Shelby Richards',\n",
       " 'Margaret Burks',\n",
       " 'Howard Planas',\n",
       " 'Alejandro Moran',\n",
       " 'Heather Miramontes',\n",
       " 'Cindy Darden',\n",
       " 'Wanda Koehl',\n",
       " 'Robert Walker',\n",
       " 'Cynthia Kern',\n",
       " 'Boyd Christie',\n",
       " 'Melvin Stacey',\n",
       " 'Samuel Tolman',\n",
       " 'Thomas Cunha',\n",
       " 'Carolyn Doran',\n",
       " 'Scott Clarke',\n",
       " 'Nancy Coronado',\n",
       " 'Hilary Ruffo',\n",
       " 'Kimberly Zwolinski',\n",
       " 'Jeffrey Forbis',\n",
       " 'Kathryn Mckee',\n",
       " 'Shanna Palacios',\n",
       " 'Margaret Glover',\n",
       " 'Sarah Brown',\n",
       " 'Yolanda Samples',\n",
       " 'Michael Robbins',\n",
       " 'Jeffrey Forbis',\n",
       " 'Wendi Hensley',\n",
       " 'Charles Turner',\n",
       " 'Kelli Rivas',\n",
       " 'Jeffery Mcbride',\n",
       " 'Steve Hayes',\n",
       " 'James Alexander',\n",
       " 'John Roberts',\n",
       " 'Kathryn Lloyd',\n",
       " 'Rivka Robinson',\n",
       " 'James Schroepfer',\n",
       " 'Cynthia Kern',\n",
       " 'Joshua Cherry',\n",
       " 'Robert Janus',\n",
       " 'Fern Hatcher',\n",
       " 'James Alexander',\n",
       " 'Mary Apilado',\n",
       " 'Robert Walker',\n",
       " 'Darryl Hafenstein',\n",
       " 'Richard Hauser',\n",
       " 'Barbara Pearce',\n",
       " 'Mickey Flanigan',\n",
       " 'Christine Carter',\n",
       " 'Charles George',\n",
       " 'John Hill',\n",
       " 'Scott Leist',\n",
       " 'Stuart Lopez',\n",
       " 'Robert Ruderman',\n",
       " 'Frances Moye',\n",
       " 'Ken Tantillo',\n",
       " 'Peggie Green',\n",
       " 'Mary Lane',\n",
       " 'Fernando Tippets',\n",
       " 'Jeffery Mcbride',\n",
       " 'Lee Nieland',\n",
       " 'Jean Dominguez',\n",
       " 'Don Filkins',\n",
       " 'Jessica Lipkin',\n",
       " 'Caitlin Campbell',\n",
       " 'Michael Pat',\n",
       " 'Clayton Veit',\n",
       " 'Roosevelt Holsopple',\n",
       " 'Barbara Betancourt',\n",
       " 'Rita Allaire',\n",
       " 'Marie Sena',\n",
       " 'Angel Alexander',\n",
       " 'Walter Prue',\n",
       " 'Belinda Robertson',\n",
       " 'Steven Reed',\n",
       " 'Robert Ward',\n",
       " 'Omar Butler',\n",
       " 'Jimmy Sisk',\n",
       " 'Jessica Perkins',\n",
       " 'Teresa Sedrakyan',\n",
       " 'Russell Frost',\n",
       " 'Walter Hardesty',\n",
       " 'Michael Reed',\n",
       " 'Sherri Bowser',\n",
       " 'Herbert Harris',\n",
       " 'Robert Rusher',\n",
       " 'Rosemary Turman',\n",
       " 'Daniel Wilcox',\n",
       " 'Frances Kimble',\n",
       " 'John Travis',\n",
       " 'Martha Ray',\n",
       " 'Kimberly Zwolinski',\n",
       " 'Christopher Knopp',\n",
       " 'Steve Hayes',\n",
       " 'Milissa Scott',\n",
       " 'James Trotter',\n",
       " 'Amy Venice',\n",
       " 'Ashley Baird',\n",
       " 'Sheryl Chang',\n",
       " 'Eva Wallen',\n",
       " 'Danielle Caddell',\n",
       " 'Lois Sheets',\n",
       " 'Herbert Harris',\n",
       " 'William Daigle',\n",
       " 'Julie Sims',\n",
       " 'Trudy Lamar',\n",
       " 'Betty Zeigler',\n",
       " 'Doris Aragon',\n",
       " 'Lynette Blight',\n",
       " 'John Roten',\n",
       " 'Richard Sheehan',\n",
       " 'Suzanne Rutan',\n",
       " 'Elias Bergan',\n",
       " 'Sherman Dammen',\n",
       " 'John Ozment',\n",
       " 'Sandra Lemieux',\n",
       " 'Josephine Amorosi',\n",
       " 'Robert Coldiron',\n",
       " 'Brian Blocker',\n",
       " 'Suzanne Amador',\n",
       " 'Justin Bowers',\n",
       " 'Melvin Schmidt',\n",
       " 'Robert Lopez',\n",
       " 'Richard Gouty',\n",
       " 'Alfred Acuna',\n",
       " 'Amy Helton',\n",
       " 'Maria Briggs',\n",
       " 'Dominique Touhey',\n",
       " 'Charles Whipps',\n",
       " 'Emily Mellas',\n",
       " 'Eva Robinson',\n",
       " 'Isaac Willard',\n",
       " 'Willie Drew',\n",
       " 'Tom Williams',\n",
       " 'Marilyn Ledford',\n",
       " 'Susan Russell',\n",
       " 'Rhonda Wright',\n",
       " 'Dawn Adams',\n",
       " 'Elise Oconor',\n",
       " 'John Hassan',\n",
       " 'Daniel Benevides',\n",
       " 'Jewel Freeman',\n",
       " 'Georgia Kenny',\n",
       " 'Joseph Wight',\n",
       " 'Vincent Rule',\n",
       " 'Kathryn Lloyd',\n",
       " 'Daniel Nance',\n",
       " 'Jim Rippee',\n",
       " 'Opal Faulkner',\n",
       " 'John Buck',\n",
       " 'Joanna Bailey',\n",
       " 'Jeffrey Merrell',\n",
       " 'Sylvia Bapties',\n",
       " 'William Brunson',\n",
       " 'Kenneth Bullard',\n",
       " 'Michele Downs',\n",
       " 'Yvonne Sanders',\n",
       " 'Helen Goldman',\n",
       " 'Richard Burns',\n",
       " 'Victoria Hicks',\n",
       " 'Delphia Sammarco',\n",
       " 'Francisca Carrier',\n",
       " 'Tanya Fontenot',\n",
       " 'Gordon Contreras',\n",
       " 'Lynn Bailey',\n",
       " 'Fred Watson',\n",
       " 'Lynne Collins',\n",
       " 'David Mcintire',\n",
       " 'Connie Phillips',\n",
       " 'Evelyn Mckinney',\n",
       " 'Adriane Clennon',\n",
       " 'Todd Edwards',\n",
       " 'Jonathan Smith',\n",
       " 'Karla Cota',\n",
       " 'Debbra Collins',\n",
       " 'Virginia Baker',\n",
       " 'Walter Hardesty',\n",
       " 'Richard Farrell',\n",
       " 'Beverly Williams',\n",
       " 'Jeremy Fields',\n",
       " 'Grady Gorsky',\n",
       " 'William Harper',\n",
       " 'Mary Talley',\n",
       " 'Ronnie Carter',\n",
       " 'Frances Moye',\n",
       " 'Johnny Borders',\n",
       " 'Emily Mellas',\n",
       " 'Kay Gallo',\n",
       " 'Audra Brown',\n",
       " 'Earl King',\n",
       " 'William Clark',\n",
       " 'Zella Sons',\n",
       " 'James Volk',\n",
       " 'Mary Apilado',\n",
       " 'Christine Carter',\n",
       " 'Jason Collins',\n",
       " 'Mildred Drummond',\n",
       " 'Albert Tardiff',\n",
       " 'Wm Combs',\n",
       " 'Allison Taylor',\n",
       " 'Margaret Burks',\n",
       " 'Donna Boucher',\n",
       " 'Thomas Fannin',\n",
       " 'Irene Gonzalez',\n",
       " 'Patrick Snyder',\n",
       " 'Catherine Rojas',\n",
       " 'Joel Buss',\n",
       " 'Sarah Pearce',\n",
       " 'Kenneth Elmer',\n",
       " 'William Vang',\n",
       " 'Todd Martin',\n",
       " 'William Vang',\n",
       " 'Luis Knutsen',\n",
       " 'Jeff Johnson',\n",
       " 'Christopher Knopp',\n",
       " 'John Bronstein',\n",
       " 'Daniel Nance',\n",
       " 'Charla Dash',\n",
       " 'John Buck',\n",
       " 'Gary Stiles',\n",
       " 'Arlene Johnson',\n",
       " 'Nannie Thomas',\n",
       " 'Lori Creamer',\n",
       " 'Jonathan Ortiz',\n",
       " 'Mitchell Cooks',\n",
       " 'Rebecca Marr',\n",
       " 'Gary Rogers',\n",
       " 'Charles Tabares',\n",
       " 'Martin Mendez',\n",
       " 'Robert Sampsell',\n",
       " 'Connie Hunt',\n",
       " 'Christina Schwart',\n",
       " 'Julian Holland',\n",
       " 'Misti Garnes',\n",
       " 'Jonathan Labonte',\n",
       " 'Lisa Lopez',\n",
       " 'Christopher Knopp',\n",
       " 'Larry Scott',\n",
       " 'Roger Mccollum',\n",
       " 'David Bernal',\n",
       " 'Michael Ortiz',\n",
       " 'Theresa Pelfrey',\n",
       " 'Peggy Shaw',\n",
       " 'Ronnie Carter',\n",
       " 'Sergio Randolph',\n",
       " 'Joel Buss',\n",
       " 'Alma Hamblin',\n",
       " 'Justin Bowers',\n",
       " 'Debra Ortega',\n",
       " 'Paul Bream',\n",
       " 'Randall Anna',\n",
       " 'Marjorie Roberts',\n",
       " 'Sondra Roder',\n",
       " 'Roger Burns',\n",
       " 'Brittany Hull',\n",
       " 'Joanna Bailey',\n",
       " 'David Mcintire',\n",
       " 'Robert Dargan',\n",
       " 'Thomas Freeman',\n",
       " 'Tracy Straight',\n",
       " 'Winifred Sampson',\n",
       " 'Kate Mendes',\n",
       " 'Rosie Charles',\n",
       " 'Nellie Holt',\n",
       " 'Wilma Rubio',\n",
       " 'Katherine Garcia',\n",
       " 'Edgar Vazquez',\n",
       " 'Jerry Hoopes',\n",
       " 'Christopher Moore',\n",
       " 'Albert Garcia',\n",
       " 'Ann Campos',\n",
       " 'Sandra Tucker',\n",
       " 'Ralph Roberson',\n",
       " 'Berta Kellogg',\n",
       " 'Caitlin Heiden',\n",
       " 'Joseph Elmore',\n",
       " 'Joanna Bailey',\n",
       " 'Elaine Burney',\n",
       " 'Jason Dowling',\n",
       " 'Oscar Reinke',\n",
       " 'Michael Pat',\n",
       " 'Judy Hall',\n",
       " 'Steve Hayes',\n",
       " 'Bobbie Burwell',\n",
       " 'Jewel Freeman',\n",
       " 'Ronald Fassett',\n",
       " 'Marsha Kingsley',\n",
       " 'John Galvan',\n",
       " 'Bertha Reynolds',\n",
       " 'Susan Sanders',\n",
       " 'Terry Reitan',\n",
       " 'Jerome Chittenden',\n",
       " 'William Crume',\n",
       " 'Frederick Patterson',\n",
       " 'Robert Pender',\n",
       " 'Todd Bell',\n",
       " 'Betty Walker',\n",
       " 'Jacquelyn Webb',\n",
       " 'Judith Sweet',\n",
       " 'Steve Gray',\n",
       " 'Sandra Hobbs',\n",
       " 'Maria Lynn',\n",
       " 'Gerald Proctor',\n",
       " 'Melody Koontz',\n",
       " 'James Miller',\n",
       " 'Constance Nathanson',\n",
       " 'Elizabeth Baeza',\n",
       " 'Larry Wakham',\n",
       " 'Jean Mcdonald',\n",
       " 'Claudia Lennon',\n",
       " 'Gary Carter',\n",
       " 'Gary Carter',\n",
       " 'Ann Campos',\n",
       " 'Virginia Huston',\n",
       " 'Eva Wallen',\n",
       " 'Theresa Aliaga',\n",
       " 'Barbara Brown',\n",
       " 'Orville Noto',\n",
       " 'Patrick Baptiste',\n",
       " 'Joshua Windham',\n",
       " 'Jennifer Harrison',\n",
       " 'Judith Sweet',\n",
       " 'Bryan Mccurdy',\n",
       " 'Alfredo Roy',\n",
       " 'Sylvia Tran',\n",
       " 'Kayla Pearson',\n",
       " 'Jan Jones',\n",
       " 'Gene Duarte',\n",
       " 'Richard Hauser',\n",
       " 'Elizabeth Kauffman',\n",
       " 'Ernesto Brown',\n",
       " 'Mary Beals',\n",
       " 'Teresa Parks',\n",
       " 'Gary Scott',\n",
       " 'Casey King',\n",
       " 'James Murphy',\n",
       " 'Sarah Razo',\n",
       " 'Bonnie Ray',\n",
       " 'Isaura Cole',\n",
       " 'Joyce Bumgardner',\n",
       " 'Carl Balado',\n",
       " 'Edward Odom',\n",
       " 'Ernestine Baxter',\n",
       " 'Katherine Williams',\n",
       " 'Barbera Payne',\n",
       " 'Patrick Snyder',\n",
       " 'Tom Williams',\n",
       " 'Bernice Mcneeley',\n",
       " 'Edwin Raines',\n",
       " 'Marco Lopez',\n",
       " 'Zella Sons',\n",
       " 'Stacy Bird',\n",
       " 'Patrick Strickland',\n",
       " 'Alan Martinez',\n",
       " 'Judy Drinkwater',\n",
       " 'Elena Perez',\n",
       " 'James Wood',\n",
       " 'Joshua Windham',\n",
       " 'James Murphy',\n",
       " 'James Harrison',\n",
       " 'Natalie Gunther',\n",
       " 'Mary Franklin',\n",
       " 'Patricia Gloeckner',\n",
       " 'Melissa Whitman',\n",
       " 'Valerie Roush',\n",
       " 'John Kirby',\n",
       " 'Melinda Smith',\n",
       " 'Jerry Barke',\n",
       " 'Jaime Villanueva',\n",
       " 'Rhonda Wright',\n",
       " 'Clara Bendel',\n",
       " 'David Pastrano',\n",
       " 'April Child',\n",
       " 'Luis Knutsen',\n",
       " 'Alan Martinez',\n",
       " 'Bryan Dondero',\n",
       " 'Michael Furnace',\n",
       " 'Elizabeth Kauffman',\n",
       " 'Eugene Brox',\n",
       " 'Marlene West',\n",
       " 'Bill Tutt',\n",
       " 'James Willis',\n",
       " 'Bonnie Ray',\n",
       " 'Kyle Allen',\n",
       " 'Andrew Tomczak',\n",
       " 'Joshua Pagano',\n",
       " 'Colleen Penn',\n",
       " 'Jasmin Bryant',\n",
       " 'Alan Mcmanus',\n",
       " 'Chris Trahan',\n",
       " 'Cynthia Thompson',\n",
       " 'Robert Talamantes',\n",
       " 'Elizabeth Dayton',\n",
       " 'Jenny Blessing',\n",
       " 'Robert Densmore',\n",
       " 'Martin Murphy',\n",
       " 'Mary Porter',\n",
       " 'Shelley Rollins',\n",
       " 'Kayla Place',\n",
       " 'Shawna Bailey',\n",
       " 'Kathryn Mckee',\n",
       " 'Shane Salazar',\n",
       " 'Mary Ryan',\n",
       " 'Michael Blalock',\n",
       " 'Jerry Hoopes',\n",
       " 'Laura Staggs',\n",
       " 'Mike Purnell',\n",
       " 'Caitlin Heiden',\n",
       " 'John Travis',\n",
       " 'John Mccarter',\n",
       " 'Margaret Collier',\n",
       " 'Brian Blocker',\n",
       " 'Roger Ewing',\n",
       " 'Alison Baron',\n",
       " 'Agnes Alsip',\n",
       " 'Carolyn Todd',\n",
       " 'Tanya Caswell',\n",
       " 'Marita Swearengin',\n",
       " 'Jamie Collins',\n",
       " 'Jennifer Wright',\n",
       " 'Brenda Trent',\n",
       " 'Nina Delker']"
      ]
     },
     "execution_count": 34,
     "metadata": {},
     "output_type": "execute_result"
    }
   ],
   "source": [
    "# low_pergorming_agents\n",
    "low_pergorming_agents"
   ]
  },
  {
   "cell_type": "markdown",
   "metadata": {
    "id": "d5vzdzJ-acyN"
   },
   "source": [
    "TASK 12"
   ]
  },
  {
   "cell_type": "code",
   "execution_count": 35,
   "metadata": {
    "id": "6yUiHkMvd4Ej"
   },
   "outputs": [],
   "source": [
    "#CHECKING CRIERIA CLAIM_STATUS = Approved AND CUSTOMER_RISK_SEGMENTATION = High AND INCIDENT_SEVERITY = “Major Loss”\n",
    "# AND NAMED THE LIST AS A\n",
    "s=[]\n",
    "for i,j,k,l in zip(complete_merged['CLAIM_STATUS'],complete_merged['RISK_SEGMENTATION'],complete_merged['INCIDENT_SEVERITY']=='Major Loss',complete_merged['CLAIM_AMOUNT']):\n",
    "  if i=='A' and j=='H' and k=='Major Loss' and l>=15000:\n",
    "    s.append(1)\n",
    "  else:\n",
    "    s.append(0)"
   ]
  },
  {
   "cell_type": "code",
   "execution_count": 36,
   "metadata": {
    "id": "j2tP-OphgJZW"
   },
   "outputs": [],
   "source": [
    "# ADDING A FEAUTURE TO DATA FRAME NAMED AS 'Suspicious emp\n",
    "complete_merged['Suspicious_emp']=s"
   ]
  },
  {
   "cell_type": "code",
   "execution_count": 37,
   "metadata": {
    "colab": {
     "base_uri": "https://localhost:8080/"
    },
    "id": "zv3p6zTxgPzl",
    "outputId": "274a51e1-7792-4600-8f84-49f4edfecf61"
   },
   "outputs": [
    {
     "data": {
      "text/plain": [
       "0.0"
      ]
     },
     "execution_count": 37,
     "metadata": {},
     "output_type": "execute_result"
    }
   ],
   "source": [
    "# MEAN OF Suspicious emp\n",
    "complete_merged['Suspicious_emp'].mean()"
   ]
  },
  {
   "cell_type": "code",
   "execution_count": 37,
   "metadata": {
    "id": "tBydVI34Rrwy"
   },
   "outputs": [],
   "source": []
  },
  {
   "cell_type": "code",
   "execution_count": 38,
   "metadata": {
    "colab": {
     "base_uri": "https://localhost:8080/",
     "height": 661
    },
    "id": "k-nawQpzc7fm",
    "outputId": "ed21c21b-e25a-4729-dea1-54d9ea8b1f08"
   },
   "outputs": [
    {
     "data": {
      "text/html": [
       "\n",
       "  <div id=\"df-58feb213-4ede-44cc-83a7-fbc2f317daac\">\n",
       "    <div class=\"colab-df-container\">\n",
       "      <div>\n",
       "<style scoped>\n",
       "    .dataframe tbody tr th:only-of-type {\n",
       "        vertical-align: middle;\n",
       "    }\n",
       "\n",
       "    .dataframe tbody tr th {\n",
       "        vertical-align: top;\n",
       "    }\n",
       "\n",
       "    .dataframe thead th {\n",
       "        text-align: right;\n",
       "    }\n",
       "</style>\n",
       "<table border=\"1\" class=\"dataframe\">\n",
       "  <thead>\n",
       "    <tr style=\"text-align: right;\">\n",
       "      <th></th>\n",
       "      <th>AGENT_ID</th>\n",
       "      <th>AGENT_NAME</th>\n",
       "      <th>DATE_OF_JOINING</th>\n",
       "      <th>ADDRESS_LINE1_x</th>\n",
       "      <th>ADDRESS_LINE2_x</th>\n",
       "      <th>CITY_x</th>\n",
       "      <th>STATE_x</th>\n",
       "      <th>POSTAL_CODE_x</th>\n",
       "      <th>EMP_ROUTING_NUMBER</th>\n",
       "      <th>EMP_ACCT_NUMBER</th>\n",
       "      <th>...</th>\n",
       "      <th>VENDOR_ID</th>\n",
       "      <th>VENDOR_NAME</th>\n",
       "      <th>ADDRESS_LINE1</th>\n",
       "      <th>ADDRESS_LINE2</th>\n",
       "      <th>CITY</th>\n",
       "      <th>STATE</th>\n",
       "      <th>POSTAL_CODE</th>\n",
       "      <th>COLOCATION</th>\n",
       "      <th>ELIGIBLE_FOR_DISCOUNT</th>\n",
       "      <th>Suspicious_emp</th>\n",
       "    </tr>\n",
       "  </thead>\n",
       "  <tbody>\n",
       "    <tr>\n",
       "      <th>0</th>\n",
       "      <td>AGENT00001</td>\n",
       "      <td>Ray Johns</td>\n",
       "      <td>1993-06-05</td>\n",
       "      <td>1402 Maggies Way</td>\n",
       "      <td>NaN</td>\n",
       "      <td>Waterbury Center</td>\n",
       "      <td>VT</td>\n",
       "      <td>5677</td>\n",
       "      <td>34584958</td>\n",
       "      <td>HKUN51252328472585</td>\n",
       "      <td>...</td>\n",
       "      <td>VNDR00394</td>\n",
       "      <td>Hart PLC</td>\n",
       "      <td>1108 Slater Street</td>\n",
       "      <td>NaN</td>\n",
       "      <td>Santa Rosa</td>\n",
       "      <td>CA</td>\n",
       "      <td>95404</td>\n",
       "      <td>0</td>\n",
       "      <td>0</td>\n",
       "      <td>0</td>\n",
       "    </tr>\n",
       "    <tr>\n",
       "      <th>1</th>\n",
       "      <td>AGENT00017</td>\n",
       "      <td>Robert Gordon</td>\n",
       "      <td>2003-09-09</td>\n",
       "      <td>1100 Cleveland Street</td>\n",
       "      <td>NaN</td>\n",
       "      <td>Fayetteville</td>\n",
       "      <td>AR</td>\n",
       "      <td>72701</td>\n",
       "      <td>33587927</td>\n",
       "      <td>SXOO45515923150315</td>\n",
       "      <td>...</td>\n",
       "      <td>VNDR00394</td>\n",
       "      <td>Hart PLC</td>\n",
       "      <td>1108 Slater Street</td>\n",
       "      <td>NaN</td>\n",
       "      <td>Santa Rosa</td>\n",
       "      <td>CA</td>\n",
       "      <td>95404</td>\n",
       "      <td>0</td>\n",
       "      <td>0</td>\n",
       "      <td>0</td>\n",
       "    </tr>\n",
       "    <tr>\n",
       "      <th>2</th>\n",
       "      <td>AGENT00027</td>\n",
       "      <td>Jaqueline Hanson</td>\n",
       "      <td>2010-04-20</td>\n",
       "      <td>6506 North Lagoon Drive</td>\n",
       "      <td>NaN</td>\n",
       "      <td>Panama City Beach</td>\n",
       "      <td>FL</td>\n",
       "      <td>32408</td>\n",
       "      <td>28032351</td>\n",
       "      <td>HNDV98515562374050</td>\n",
       "      <td>...</td>\n",
       "      <td>VNDR00394</td>\n",
       "      <td>Hart PLC</td>\n",
       "      <td>1108 Slater Street</td>\n",
       "      <td>NaN</td>\n",
       "      <td>Santa Rosa</td>\n",
       "      <td>CA</td>\n",
       "      <td>95404</td>\n",
       "      <td>0</td>\n",
       "      <td>0</td>\n",
       "      <td>0</td>\n",
       "    </tr>\n",
       "    <tr>\n",
       "      <th>3</th>\n",
       "      <td>AGENT00057</td>\n",
       "      <td>Debra Tripp</td>\n",
       "      <td>2011-03-12</td>\n",
       "      <td>3194 Bladensburg Road Northeast</td>\n",
       "      <td>NaN</td>\n",
       "      <td>Washington</td>\n",
       "      <td>DC</td>\n",
       "      <td>20018</td>\n",
       "      <td>89557833</td>\n",
       "      <td>QINB62773712676016</td>\n",
       "      <td>...</td>\n",
       "      <td>VNDR00394</td>\n",
       "      <td>Hart PLC</td>\n",
       "      <td>1108 Slater Street</td>\n",
       "      <td>NaN</td>\n",
       "      <td>Santa Rosa</td>\n",
       "      <td>CA</td>\n",
       "      <td>95404</td>\n",
       "      <td>0</td>\n",
       "      <td>0</td>\n",
       "      <td>0</td>\n",
       "    </tr>\n",
       "    <tr>\n",
       "      <th>4</th>\n",
       "      <td>AGENT00130</td>\n",
       "      <td>Richard Watts</td>\n",
       "      <td>2011-03-19</td>\n",
       "      <td>2521 Naylor Road Southeast</td>\n",
       "      <td>NaN</td>\n",
       "      <td>Washington</td>\n",
       "      <td>DC</td>\n",
       "      <td>20020</td>\n",
       "      <td>37112932</td>\n",
       "      <td>PUKF19142478946120</td>\n",
       "      <td>...</td>\n",
       "      <td>VNDR00394</td>\n",
       "      <td>Hart PLC</td>\n",
       "      <td>1108 Slater Street</td>\n",
       "      <td>NaN</td>\n",
       "      <td>Santa Rosa</td>\n",
       "      <td>CA</td>\n",
       "      <td>95404</td>\n",
       "      <td>0</td>\n",
       "      <td>0</td>\n",
       "      <td>0</td>\n",
       "    </tr>\n",
       "    <tr>\n",
       "      <th>...</th>\n",
       "      <td>...</td>\n",
       "      <td>...</td>\n",
       "      <td>...</td>\n",
       "      <td>...</td>\n",
       "      <td>...</td>\n",
       "      <td>...</td>\n",
       "      <td>...</td>\n",
       "      <td>...</td>\n",
       "      <td>...</td>\n",
       "      <td>...</td>\n",
       "      <td>...</td>\n",
       "      <td>...</td>\n",
       "      <td>...</td>\n",
       "      <td>...</td>\n",
       "      <td>...</td>\n",
       "      <td>...</td>\n",
       "      <td>...</td>\n",
       "      <td>...</td>\n",
       "      <td>...</td>\n",
       "      <td>...</td>\n",
       "      <td>...</td>\n",
       "    </tr>\n",
       "    <tr>\n",
       "      <th>6750</th>\n",
       "      <td>AGENT00566</td>\n",
       "      <td>Paul Ragland</td>\n",
       "      <td>2014-02-05</td>\n",
       "      <td>6315 North Oro Vista Court</td>\n",
       "      <td>NaN</td>\n",
       "      <td>Litchfield Park</td>\n",
       "      <td>AZ</td>\n",
       "      <td>85340</td>\n",
       "      <td>119693502</td>\n",
       "      <td>DFQL30132049053767</td>\n",
       "      <td>...</td>\n",
       "      <td>VNDR00197</td>\n",
       "      <td>Miller, Perez and Cannon</td>\n",
       "      <td>30 Curtis Road</td>\n",
       "      <td>#509</td>\n",
       "      <td>Milton</td>\n",
       "      <td>MA</td>\n",
       "      <td>2186</td>\n",
       "      <td>0</td>\n",
       "      <td>0</td>\n",
       "      <td>0</td>\n",
       "    </tr>\n",
       "    <tr>\n",
       "      <th>6751</th>\n",
       "      <td>AGENT00661</td>\n",
       "      <td>Johnny Borders</td>\n",
       "      <td>1993-11-14</td>\n",
       "      <td>52 Oleary Drive</td>\n",
       "      <td>NaN</td>\n",
       "      <td>Manchester</td>\n",
       "      <td>CT</td>\n",
       "      <td>6040</td>\n",
       "      <td>58545009</td>\n",
       "      <td>YWYB09426389497608</td>\n",
       "      <td>...</td>\n",
       "      <td>VNDR00197</td>\n",
       "      <td>Miller, Perez and Cannon</td>\n",
       "      <td>30 Curtis Road</td>\n",
       "      <td>#509</td>\n",
       "      <td>Milton</td>\n",
       "      <td>MA</td>\n",
       "      <td>2186</td>\n",
       "      <td>0</td>\n",
       "      <td>0</td>\n",
       "      <td>0</td>\n",
       "    </tr>\n",
       "    <tr>\n",
       "      <th>6752</th>\n",
       "      <td>AGENT00832</td>\n",
       "      <td>Andrea Deleon</td>\n",
       "      <td>2016-01-22</td>\n",
       "      <td>3420 Northwest 41st Street</td>\n",
       "      <td>NaN</td>\n",
       "      <td>Oklahoma City</td>\n",
       "      <td>OK</td>\n",
       "      <td>73112</td>\n",
       "      <td>91463119</td>\n",
       "      <td>AGZN99793722750020</td>\n",
       "      <td>...</td>\n",
       "      <td>VNDR00197</td>\n",
       "      <td>Miller, Perez and Cannon</td>\n",
       "      <td>30 Curtis Road</td>\n",
       "      <td>#509</td>\n",
       "      <td>Milton</td>\n",
       "      <td>MA</td>\n",
       "      <td>2186</td>\n",
       "      <td>0</td>\n",
       "      <td>0</td>\n",
       "      <td>0</td>\n",
       "    </tr>\n",
       "    <tr>\n",
       "      <th>6753</th>\n",
       "      <td>AGENT00931</td>\n",
       "      <td>Teresa Hosey</td>\n",
       "      <td>1997-01-07</td>\n",
       "      <td>58 North U.S.A Drive</td>\n",
       "      <td>NaN</td>\n",
       "      <td>Fayetteville</td>\n",
       "      <td>AR</td>\n",
       "      <td>72701</td>\n",
       "      <td>46456511</td>\n",
       "      <td>MKRQ16932147550119</td>\n",
       "      <td>...</td>\n",
       "      <td>VNDR00197</td>\n",
       "      <td>Miller, Perez and Cannon</td>\n",
       "      <td>30 Curtis Road</td>\n",
       "      <td>#509</td>\n",
       "      <td>Milton</td>\n",
       "      <td>MA</td>\n",
       "      <td>2186</td>\n",
       "      <td>0</td>\n",
       "      <td>0</td>\n",
       "      <td>0</td>\n",
       "    </tr>\n",
       "    <tr>\n",
       "      <th>6754</th>\n",
       "      <td>AGENT00952</td>\n",
       "      <td>James Volk</td>\n",
       "      <td>1996-08-30</td>\n",
       "      <td>22062 Cameron Street</td>\n",
       "      <td>NaN</td>\n",
       "      <td>Castro Valley</td>\n",
       "      <td>CA</td>\n",
       "      <td>94546</td>\n",
       "      <td>39717652</td>\n",
       "      <td>JSZJ26000202617327</td>\n",
       "      <td>...</td>\n",
       "      <td>VNDR00197</td>\n",
       "      <td>Miller, Perez and Cannon</td>\n",
       "      <td>30 Curtis Road</td>\n",
       "      <td>#509</td>\n",
       "      <td>Milton</td>\n",
       "      <td>MA</td>\n",
       "      <td>2186</td>\n",
       "      <td>0</td>\n",
       "      <td>0</td>\n",
       "      <td>0</td>\n",
       "    </tr>\n",
       "  </tbody>\n",
       "</table>\n",
       "<p>6755 rows × 56 columns</p>\n",
       "</div>\n",
       "      <button class=\"colab-df-convert\" onclick=\"convertToInteractive('df-58feb213-4ede-44cc-83a7-fbc2f317daac')\"\n",
       "              title=\"Convert this dataframe to an interactive table.\"\n",
       "              style=\"display:none;\">\n",
       "        \n",
       "  <svg xmlns=\"http://www.w3.org/2000/svg\" height=\"24px\"viewBox=\"0 0 24 24\"\n",
       "       width=\"24px\">\n",
       "    <path d=\"M0 0h24v24H0V0z\" fill=\"none\"/>\n",
       "    <path d=\"M18.56 5.44l.94 2.06.94-2.06 2.06-.94-2.06-.94-.94-2.06-.94 2.06-2.06.94zm-11 1L8.5 8.5l.94-2.06 2.06-.94-2.06-.94L8.5 2.5l-.94 2.06-2.06.94zm10 10l.94 2.06.94-2.06 2.06-.94-2.06-.94-.94-2.06-.94 2.06-2.06.94z\"/><path d=\"M17.41 7.96l-1.37-1.37c-.4-.4-.92-.59-1.43-.59-.52 0-1.04.2-1.43.59L10.3 9.45l-7.72 7.72c-.78.78-.78 2.05 0 2.83L4 21.41c.39.39.9.59 1.41.59.51 0 1.02-.2 1.41-.59l7.78-7.78 2.81-2.81c.8-.78.8-2.07 0-2.86zM5.41 20L4 18.59l7.72-7.72 1.47 1.35L5.41 20z\"/>\n",
       "  </svg>\n",
       "      </button>\n",
       "      \n",
       "  <style>\n",
       "    .colab-df-container {\n",
       "      display:flex;\n",
       "      flex-wrap:wrap;\n",
       "      gap: 12px;\n",
       "    }\n",
       "\n",
       "    .colab-df-convert {\n",
       "      background-color: #E8F0FE;\n",
       "      border: none;\n",
       "      border-radius: 50%;\n",
       "      cursor: pointer;\n",
       "      display: none;\n",
       "      fill: #1967D2;\n",
       "      height: 32px;\n",
       "      padding: 0 0 0 0;\n",
       "      width: 32px;\n",
       "    }\n",
       "\n",
       "    .colab-df-convert:hover {\n",
       "      background-color: #E2EBFA;\n",
       "      box-shadow: 0px 1px 2px rgba(60, 64, 67, 0.3), 0px 1px 3px 1px rgba(60, 64, 67, 0.15);\n",
       "      fill: #174EA6;\n",
       "    }\n",
       "\n",
       "    [theme=dark] .colab-df-convert {\n",
       "      background-color: #3B4455;\n",
       "      fill: #D2E3FC;\n",
       "    }\n",
       "\n",
       "    [theme=dark] .colab-df-convert:hover {\n",
       "      background-color: #434B5C;\n",
       "      box-shadow: 0px 1px 3px 1px rgba(0, 0, 0, 0.15);\n",
       "      filter: drop-shadow(0px 1px 2px rgba(0, 0, 0, 0.3));\n",
       "      fill: #FFFFFF;\n",
       "    }\n",
       "  </style>\n",
       "\n",
       "      <script>\n",
       "        const buttonEl =\n",
       "          document.querySelector('#df-58feb213-4ede-44cc-83a7-fbc2f317daac button.colab-df-convert');\n",
       "        buttonEl.style.display =\n",
       "          google.colab.kernel.accessAllowed ? 'block' : 'none';\n",
       "\n",
       "        async function convertToInteractive(key) {\n",
       "          const element = document.querySelector('#df-58feb213-4ede-44cc-83a7-fbc2f317daac');\n",
       "          const dataTable =\n",
       "            await google.colab.kernel.invokeFunction('convertToInteractive',\n",
       "                                                     [key], {});\n",
       "          if (!dataTable) return;\n",
       "\n",
       "          const docLinkHtml = 'Like what you see? Visit the ' +\n",
       "            '<a target=\"_blank\" href=https://colab.research.google.com/notebooks/data_table.ipynb>data table notebook</a>'\n",
       "            + ' to learn more about interactive tables.';\n",
       "          element.innerHTML = '';\n",
       "          dataTable['output_type'] = 'display_data';\n",
       "          await google.colab.output.renderOutput(dataTable, element);\n",
       "          const docLink = document.createElement('div');\n",
       "          docLink.innerHTML = docLinkHtml;\n",
       "          element.appendChild(docLink);\n",
       "        }\n",
       "      </script>\n",
       "    </div>\n",
       "  </div>\n",
       "  "
      ],
      "text/plain": [
       "        AGENT_ID        AGENT_NAME DATE_OF_JOINING  \\\n",
       "0     AGENT00001         Ray Johns      1993-06-05   \n",
       "1     AGENT00017     Robert Gordon      2003-09-09   \n",
       "2     AGENT00027  Jaqueline Hanson      2010-04-20   \n",
       "3     AGENT00057       Debra Tripp      2011-03-12   \n",
       "4     AGENT00130     Richard Watts      2011-03-19   \n",
       "...          ...               ...             ...   \n",
       "6750  AGENT00566      Paul Ragland      2014-02-05   \n",
       "6751  AGENT00661    Johnny Borders      1993-11-14   \n",
       "6752  AGENT00832     Andrea Deleon      2016-01-22   \n",
       "6753  AGENT00931      Teresa Hosey      1997-01-07   \n",
       "6754  AGENT00952        James Volk      1996-08-30   \n",
       "\n",
       "                      ADDRESS_LINE1_x ADDRESS_LINE2_x             CITY_x  \\\n",
       "0                    1402 Maggies Way             NaN   Waterbury Center   \n",
       "1               1100 Cleveland Street             NaN       Fayetteville   \n",
       "2             6506 North Lagoon Drive             NaN  Panama City Beach   \n",
       "3     3194 Bladensburg Road Northeast             NaN         Washington   \n",
       "4          2521 Naylor Road Southeast             NaN         Washington   \n",
       "...                               ...             ...                ...   \n",
       "6750       6315 North Oro Vista Court             NaN    Litchfield Park   \n",
       "6751                  52 Oleary Drive             NaN         Manchester   \n",
       "6752       3420 Northwest 41st Street             NaN      Oklahoma City   \n",
       "6753             58 North U.S.A Drive             NaN       Fayetteville   \n",
       "6754             22062 Cameron Street             NaN      Castro Valley   \n",
       "\n",
       "     STATE_x  POSTAL_CODE_x  EMP_ROUTING_NUMBER     EMP_ACCT_NUMBER  ...  \\\n",
       "0         VT           5677            34584958  HKUN51252328472585  ...   \n",
       "1         AR          72701            33587927  SXOO45515923150315  ...   \n",
       "2         FL          32408            28032351  HNDV98515562374050  ...   \n",
       "3         DC          20018            89557833  QINB62773712676016  ...   \n",
       "4         DC          20020            37112932  PUKF19142478946120  ...   \n",
       "...      ...            ...                 ...                 ...  ...   \n",
       "6750      AZ          85340           119693502  DFQL30132049053767  ...   \n",
       "6751      CT           6040            58545009  YWYB09426389497608  ...   \n",
       "6752      OK          73112            91463119  AGZN99793722750020  ...   \n",
       "6753      AR          72701            46456511  MKRQ16932147550119  ...   \n",
       "6754      CA          94546            39717652  JSZJ26000202617327  ...   \n",
       "\n",
       "      VENDOR_ID               VENDOR_NAME       ADDRESS_LINE1 ADDRESS_LINE2  \\\n",
       "0     VNDR00394                  Hart PLC  1108 Slater Street           NaN   \n",
       "1     VNDR00394                  Hart PLC  1108 Slater Street           NaN   \n",
       "2     VNDR00394                  Hart PLC  1108 Slater Street           NaN   \n",
       "3     VNDR00394                  Hart PLC  1108 Slater Street           NaN   \n",
       "4     VNDR00394                  Hart PLC  1108 Slater Street           NaN   \n",
       "...         ...                       ...                 ...           ...   \n",
       "6750  VNDR00197  Miller, Perez and Cannon      30 Curtis Road          #509   \n",
       "6751  VNDR00197  Miller, Perez and Cannon      30 Curtis Road          #509   \n",
       "6752  VNDR00197  Miller, Perez and Cannon      30 Curtis Road          #509   \n",
       "6753  VNDR00197  Miller, Perez and Cannon      30 Curtis Road          #509   \n",
       "6754  VNDR00197  Miller, Perez and Cannon      30 Curtis Road          #509   \n",
       "\n",
       "            CITY STATE POSTAL_CODE COLOCATION  ELIGIBLE_FOR_DISCOUNT  \\\n",
       "0     Santa Rosa    CA       95404          0                      0   \n",
       "1     Santa Rosa    CA       95404          0                      0   \n",
       "2     Santa Rosa    CA       95404          0                      0   \n",
       "3     Santa Rosa    CA       95404          0                      0   \n",
       "4     Santa Rosa    CA       95404          0                      0   \n",
       "...          ...   ...         ...        ...                    ...   \n",
       "6750      Milton    MA        2186          0                      0   \n",
       "6751      Milton    MA        2186          0                      0   \n",
       "6752      Milton    MA        2186          0                      0   \n",
       "6753      Milton    MA        2186          0                      0   \n",
       "6754      Milton    MA        2186          0                      0   \n",
       "\n",
       "      Suspicious_emp  \n",
       "0                  0  \n",
       "1                  0  \n",
       "2                  0  \n",
       "3                  0  \n",
       "4                  0  \n",
       "...              ...  \n",
       "6750               0  \n",
       "6751               0  \n",
       "6752               0  \n",
       "6753               0  \n",
       "6754               0  \n",
       "\n",
       "[6755 rows x 56 columns]"
      ]
     },
     "execution_count": 38,
     "metadata": {},
     "output_type": "execute_result"
    }
   ],
   "source": [
    "# updated data frame \n",
    "\n",
    "complete_merged"
   ]
  },
  {
   "cell_type": "code",
   "execution_count": 38,
   "metadata": {
    "id": "3qQeLXbwc7oj"
   },
   "outputs": [],
   "source": []
  },
  {
   "cell_type": "code",
   "execution_count": 38,
   "metadata": {
    "id": "alA3TkBJc7wt"
   },
   "outputs": [],
   "source": []
  },
  {
   "cell_type": "code",
   "execution_count": 38,
   "metadata": {
    "id": "n9-JTc3qc734"
   },
   "outputs": [],
   "source": []
  }
 ],
 "metadata": {
  "colab": {
   "collapsed_sections": [],
   "name": "go_digital_abhilash_patel.ipynb",
   "provenance": []
  },
  "kernelspec": {
   "display_name": "Python 3 (ipykernel)",
   "language": "python",
   "name": "python3"
  },
  "language_info": {
   "codemirror_mode": {
    "name": "ipython",
    "version": 3
   },
   "file_extension": ".py",
   "mimetype": "text/x-python",
   "name": "python",
   "nbconvert_exporter": "python",
   "pygments_lexer": "ipython3",
   "version": "3.9.7"
  }
 },
 "nbformat": 4,
 "nbformat_minor": 1
}
